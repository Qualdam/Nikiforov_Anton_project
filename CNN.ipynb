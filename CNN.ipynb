{
 "cells": [
  {
   "cell_type": "code",
   "execution_count": 2,
   "id": "governing-norwegian",
   "metadata": {},
   "outputs": [],
   "source": [
    "from tensorflow import keras\n",
    "import time\n",
    "from tensorflow.keras import layers\n",
    "from tensorflow.keras import Sequential\n",
    "from tensorflow.keras.layers import Conv2D, MaxPooling2D, Flatten, Dense, Dropout, Activation, BatchNormalization, AveragePooling2D\n",
    "from tensorflow.keras.optimizers import SGD, RMSprop, Adam\n",
    "import tensorflow as tf\n",
    "import logging\n",
    "import numpy as np\n",
    "import tkinter as tk\n",
    "from tkinter import Tk     #Для интерфейса\n",
    "from tkinter.filedialog import askopenfilename #Для запроса файла у пользователя\n",
    "import PIL\n",
    "from PIL import Image, ImageTk #Для изображений"
   ]
  },
  {
   "cell_type": "code",
   "execution_count": 3,
   "id": "altered-princeton",
   "metadata": {},
   "outputs": [],
   "source": [
    "def make_cnn():\n",
    "   img_size = 28 # размер картинки\n",
    "   num_channels = 1  # Для черно-белых изображений\n",
    "   output = 10  # количество выходных нейронов\n",
    "   neural_network = Sequential() # Создание нейросети\n",
    "    \n",
    "    # добавление сверточных слоев\n",
    "    \n",
    "   neural_network.add(Conv2D(filters=32, kernel_size=(3,3), activation='relu',\n",
    "            padding='same', \n",
    "input_shape=(img_size, img_size, num_channels)))\n",
    "   neural_network.add(MaxPooling2D(pool_size=(2, 2)))\n",
    "   neural_network.add(Conv2D(filters=64, kernel_size=(3, 3), activation='relu',\n",
    "            padding='same'))\n",
    "   neural_network.add(MaxPooling2D(pool_size=(2, 2)))\n",
    "   neural_network.add(Conv2D(filters=64, kernel_size=(3, 3), activation='relu',\n",
    "            padding='same'))\n",
    "   neural_network.add(MaxPooling2D(pool_size=(2, 2)))\n",
    "   neural_network.add(Flatten())\n",
    "\n",
    "   # Добавление обычного слоя нейронов\n",
    "   neural_network.add(Dense(128, activation='relu'))\n",
    "   # Добавление выходного слоя\n",
    "   neural_network.add(Dense(output, activation='softmax'))\n",
    "   neural_network.compile(optimizer=Adam(), loss='categorical_crossentropy',\n",
    "            metrics=['accuracy'])\n",
    "    \n",
    "   return neural_network"
   ]
  },
  {
   "cell_type": "code",
   "execution_count": 4,
   "id": "chronic-argentina",
   "metadata": {},
   "outputs": [],
   "source": [
    "def train_cnn(neural_network):\n",
    "   (train_digits, train_labels), (test_digits, test_labels) = keras.datasets.mnist.load_data() \n",
    "\n",
    "   img_size = 28 # размер картинки\n",
    "   num_channels = 1  # Для черно-белых изображений\n",
    "\n",
    "   # преобразование полученного изображение в 28*28\n",
    "   train_data = np.reshape(train_digits, (train_digits.shape[0],img_size, img_size, num_channels))\n",
    "   train_data = train_data.astype('float32') / 255.0\n",
    "   output = 10 # Выходные слои \n",
    "   train_labels_cat = keras.utils.to_categorical(train_labels, output)\n",
    "\n",
    "   # преобразование размера и цвета\n",
    "   val_data = np.reshape(test_digits, (test_digits.shape[0], img_size, img_size, num_channels))\n",
    "   val_data = val_data.astype('float32') / 255.0\n",
    "\n",
    "   val_labels_cat = keras.utils.to_categorical(test_labels, output)\n",
    "\n",
    "   print(\"Обучение нейросети...\")\n",
    "   time.sleep(0.5)\n",
    "   t_start = time.time() # начало отчета\n",
    "\n",
    "   # Обучение нейросети\n",
    "   neural_network.fit(train_data, train_labels_cat, epochs=8, batch_size=64,\n",
    "        validation_data=(val_data, val_labels_cat))\n",
    "\n",
    "   print(\"Выполнено за:\", time.time() - t_start) # \n",
    "\n",
    "   return neural_network"
   ]
  },
  {
   "cell_type": "code",
   "execution_count": 9,
   "id": "precious-combat",
   "metadata": {},
   "outputs": [
    {
     "name": "stdout",
     "output_type": "stream",
     "text": [
      "Обучение нейросети...\n",
      "Epoch 1/8\n",
      "938/938 [==============================] - 29s 31ms/step - loss: 0.1653 - accuracy: 0.9487 - val_loss: 0.0544 - val_accuracy: 0.9827\n",
      "Epoch 2/8\n",
      "938/938 [==============================] - 29s 31ms/step - loss: 0.0452 - accuracy: 0.9861 - val_loss: 0.0413 - val_accuracy: 0.9871\n",
      "Epoch 3/8\n",
      "938/938 [==============================] - 28s 30ms/step - loss: 0.0330 - accuracy: 0.9893 - val_loss: 0.0365 - val_accuracy: 0.9882\n",
      "Epoch 4/8\n",
      "938/938 [==============================] - 28s 30ms/step - loss: 0.0244 - accuracy: 0.9923 - val_loss: 0.0273 - val_accuracy: 0.9905\n",
      "Epoch 5/8\n",
      "938/938 [==============================] - 27s 29ms/step - loss: 0.0197 - accuracy: 0.9937 - val_loss: 0.0295 - val_accuracy: 0.9912\n",
      "Epoch 6/8\n",
      "938/938 [==============================] - 28s 29ms/step - loss: 0.0163 - accuracy: 0.9946 - val_loss: 0.0254 - val_accuracy: 0.9918\n",
      "Epoch 7/8\n",
      "938/938 [==============================] - 28s 30ms/step - loss: 0.0134 - accuracy: 0.9955 - val_loss: 0.0246 - val_accuracy: 0.9925\n",
      "Epoch 8/8\n",
      "938/938 [==============================] - 27s 29ms/step - loss: 0.0120 - accuracy: 0.9961 - val_loss: 0.0380 - val_accuracy: 0.9897\n",
      "Выполнено за: 224.59115052223206\n"
     ]
    }
   ],
   "source": [
    "model = make_cnn()\n",
    "train_cnn(model)\n",
    "model.save('cnn_digits.h5')"
   ]
  }
 ],
 "metadata": {
  "kernelspec": {
   "display_name": "Python 3",
   "language": "python",
   "name": "python3"
  },
  "language_info": {
   "codemirror_mode": {
    "name": "ipython",
    "version": 3
   },
   "file_extension": ".py",
   "mimetype": "text/x-python",
   "name": "python",
   "nbconvert_exporter": "python",
   "pygments_lexer": "ipython3",
   "version": "3.8.5"
  },
  "toc-autonumbering": true,
  "toc-showcode": true,
  "toc-showmarkdowntxt": false
 },
 "nbformat": 4,
 "nbformat_minor": 5
}
