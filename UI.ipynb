{
 "cells": [
  {
   "cell_type": "code",
   "execution_count": 9,
   "id": "advanced-guess",
   "metadata": {},
   "outputs": [],
   "source": [
    "from tensorflow import keras\n",
    "import time\n",
    "from tensorflow.keras import layers\n",
    "from tensorflow.keras import Sequential\n",
    "from tensorflow.keras.layers import Conv2D, MaxPooling2D, Flatten, Dense, Dropout, Activation, BatchNormalization, AveragePooling2D\n",
    "from tensorflow.keras.optimizers import SGD, RMSprop, Adam\n",
    "import tensorflow as tf\n",
    "import logging\n",
    "import numpy as np\n",
    "import tkinter as tk\n",
    "from tkinter import Tk     #Для интерфейса\n",
    "from tkinter.filedialog import askopenfilename #Для запроса файла у пользователя\n",
    "import PIL\n",
    "from PIL import Image, ImageTk #Для изображений"
   ]
  },
  {
   "cell_type": "code",
   "execution_count": 10,
   "id": "violent-cyprus",
   "metadata": {},
   "outputs": [],
   "source": [
    "def cnn_digits_predict(model, image_file): #прогноз нейростеи\n",
    "   img_size = 28 # размер картинки\n",
    "   img = keras.preprocessing.image.load_img(image_file, \n",
    "target_size=(img_size, img_size), color_mode='grayscale') # получение картинки\n",
    "   img_arr = np.expand_dims(img, axis=0)\n",
    "   img_arr = 1 - img_arr/255.0\n",
    "   img_arr = img_arr.reshape((1, 28, 28, 1))\n",
    "   result = model.predict_classes([img_arr]) # результат работы\n",
    "   return result[0] # возврат предсказываемого значения"
   ]
  },
  {
   "cell_type": "code",
   "execution_count": 11,
   "id": "residential-poetry",
   "metadata": {},
   "outputs": [],
   "source": [
    "def get_file():\n",
    "    global tk\n",
    "    file = askopenfilename() # для открытия файла\n",
    "    \n",
    "    img = PIL.Image.open(file)\n",
    "    img = img.resize((150, 150), PIL.Image.ANTIALIAS)\n",
    "    img = PIL.ImageTk.PhotoImage(img)\n",
    "    \n",
    "    panel = Label(tk, image=img)\n",
    "    panel.image = img\n",
    "    panel.place(x=30,y=80)\n",
    "    \n",
    "    text = Label(tk, text='Ваше изображение:', font=20)\n",
    "    text.place(x=30, y=50)\n",
    "    \n",
    "    model = tf.keras.models.load_model('cnn_digits.h5') #загрузка сохраненной модели нейросети\n",
    "    prediction = cnn_digits_predict(model, file)\n",
    "    str_result = str(prediction)\n",
    "    \n",
    "    res_text = Label(tk, text='Распознанная цифра:', font=20)\n",
    "    res_text.place(x=200, y=50)\n",
    "    \n",
    "    result = Label(tk, text=str_result, font=50)\n",
    "    result.place(x=200, y=80)\n",
    "    "
   ]
  },
  {
   "cell_type": "code",
   "execution_count": 12,
   "id": "intimate-therapy",
   "metadata": {},
   "outputs": [],
   "source": [
    "def help_():\n",
    "    root = Tk()\n",
    "    root.title('Справка')\n",
    "    root.geometry('800x200')\n",
    "    root.resizable(width=False, height=False)\n",
    "    \n",
    "    text = Label(root,text='Данная программа поможет вам в распознавании символов \\n\\n Перед началом работы выберите изображение, которое хотели бы распознать\\nПосле того, как вы выбрали изображение справа под надписью Распознанная цифра появится предсказанная цифра\\nТак же под надписью Ваше изображение появится то изображение, которое вы выбрали')\n",
    "    text.place(x=0,y=0)\n",
    "                 "
   ]
  },
  {
   "cell_type": "code",
   "execution_count": 13,
   "id": "acute-anime",
   "metadata": {},
   "outputs": [
    {
     "name": "stdout",
     "output_type": "stream",
     "text": [
      "WARNING:tensorflow:5 out of the last 5 calls to <function Model.make_predict_function.<locals>.predict_function at 0x000001C593DE01F0> triggered tf.function retracing. Tracing is expensive and the excessive number of tracings could be due to (1) creating @tf.function repeatedly in a loop, (2) passing tensors with different shapes, (3) passing Python objects instead of tensors. For (1), please define your @tf.function outside of the loop. For (2), @tf.function has experimental_relax_shapes=True option that relaxes argument shapes that can avoid unnecessary retracing. For (3), please refer to https://www.tensorflow.org/tutorials/customization/performance#python_or_tensor_args and https://www.tensorflow.org/api_docs/python/tf/function for  more details.\n",
      "WARNING:tensorflow:6 out of the last 6 calls to <function Model.make_predict_function.<locals>.predict_function at 0x000001C593EA34C0> triggered tf.function retracing. Tracing is expensive and the excessive number of tracings could be due to (1) creating @tf.function repeatedly in a loop, (2) passing tensors with different shapes, (3) passing Python objects instead of tensors. For (1), please define your @tf.function outside of the loop. For (2), @tf.function has experimental_relax_shapes=True option that relaxes argument shapes that can avoid unnecessary retracing. For (3), please refer to https://www.tensorflow.org/tutorials/customization/performance#python_or_tensor_args and https://www.tensorflow.org/api_docs/python/tf/function for  more details.\n",
      "WARNING:tensorflow:7 out of the last 7 calls to <function Model.make_predict_function.<locals>.predict_function at 0x000001C593F71820> triggered tf.function retracing. Tracing is expensive and the excessive number of tracings could be due to (1) creating @tf.function repeatedly in a loop, (2) passing tensors with different shapes, (3) passing Python objects instead of tensors. For (1), please define your @tf.function outside of the loop. For (2), @tf.function has experimental_relax_shapes=True option that relaxes argument shapes that can avoid unnecessary retracing. For (3), please refer to https://www.tensorflow.org/tutorials/customization/performance#python_or_tensor_args and https://www.tensorflow.org/api_docs/python/tf/function for  more details.\n",
      "WARNING:tensorflow:8 out of the last 8 calls to <function Model.make_predict_function.<locals>.predict_function at 0x000001C59405FCA0> triggered tf.function retracing. Tracing is expensive and the excessive number of tracings could be due to (1) creating @tf.function repeatedly in a loop, (2) passing tensors with different shapes, (3) passing Python objects instead of tensors. For (1), please define your @tf.function outside of the loop. For (2), @tf.function has experimental_relax_shapes=True option that relaxes argument shapes that can avoid unnecessary retracing. For (3), please refer to https://www.tensorflow.org/tutorials/customization/performance#python_or_tensor_args and https://www.tensorflow.org/api_docs/python/tf/function for  more details.\n",
      "WARNING:tensorflow:9 out of the last 9 calls to <function Model.make_predict_function.<locals>.predict_function at 0x000001C5941A3040> triggered tf.function retracing. Tracing is expensive and the excessive number of tracings could be due to (1) creating @tf.function repeatedly in a loop, (2) passing tensors with different shapes, (3) passing Python objects instead of tensors. For (1), please define your @tf.function outside of the loop. For (2), @tf.function has experimental_relax_shapes=True option that relaxes argument shapes that can avoid unnecessary retracing. For (3), please refer to https://www.tensorflow.org/tutorials/customization/performance#python_or_tensor_args and https://www.tensorflow.org/api_docs/python/tf/function for  more details.\n"
     ]
    }
   ],
   "source": [
    "from tkinter import *     #Для интерфейса\n",
    "from tkinter.filedialog import askopenfilename #Для запроса файла у пользователя\n",
    "tk = Tk()\n",
    "tk.title('Распознавание цифр')\n",
    "tk.geometry('400x350')\n",
    "tk.resizable(width=False, height=False)\n",
    "file = \"\"\n",
    "choose_file = Button(text=\"Выбрать файл\",\n",
    "            padx=5,\n",
    "            pady=5,\n",
    "            font = 10,\n",
    "            command = get_file\n",
    "            )\n",
    "choose_file.place(x=30, y=250)\n",
    "\n",
    "spravka = Button(text=\"Справка\",\n",
    "            padx=5,\n",
    "            pady=5,\n",
    "            font = 10,\n",
    "            command = help_\n",
    "            )\n",
    "spravka.place(x = 250, y=300)\n",
    "\n",
    "tk.mainloop()\n"
   ]
  },
  {
   "cell_type": "code",
   "execution_count": null,
   "id": "burning-hometown",
   "metadata": {},
   "outputs": [],
   "source": []
  }
 ],
 "metadata": {
  "kernelspec": {
   "display_name": "Python 3",
   "language": "python",
   "name": "python3"
  },
  "language_info": {
   "codemirror_mode": {
    "name": "ipython",
    "version": 3
   },
   "file_extension": ".py",
   "mimetype": "text/x-python",
   "name": "python",
   "nbconvert_exporter": "python",
   "pygments_lexer": "ipython3",
   "version": "3.8.5"
  }
 },
 "nbformat": 4,
 "nbformat_minor": 5
}
