{
 "cells": [
  {
   "cell_type": "code",
   "execution_count": 1,
   "id": "posted-blogger",
   "metadata": {},
   "outputs": [],
   "source": [
    "from tensorflow import keras\n",
    "import time\n",
    "from tensorflow.keras import layers\n",
    "from tensorflow.keras import Sequential\n",
    "from tensorflow.keras.layers import Conv2D, MaxPooling2D, Flatten, Dense, Dropout, Activation, BatchNormalization, AveragePooling2D\n",
    "from tensorflow.keras.optimizers import SGD, RMSprop, Adam\n",
    "import tensorflow as tf\n",
    "import logging\n",
    "import numpy as np\n",
    "import tkinter as tk\n",
    "from tkinter import Tk     #Для интерфейса\n",
    "from tkinter.filedialog import askopenfilename #Для запроса файла у пользователя\n",
    "import PIL\n",
    "from PIL import Image, ImageTk #Для изображений"
   ]
  },
  {
   "cell_type": "code",
   "execution_count": 4,
   "id": "shared-projector",
   "metadata": {},
   "outputs": [],
   "source": [
    "def transform_to_matrix(image_file):\n",
    "   img_size = 28 # размер картинки\n",
    "   img = keras.preprocessing.image.load_img(image_file, \n",
    "target_size=(img_size, img_size), color_mode='grayscale') # изменение размеров и преобразование в черно-белое изображение\n",
    "   img_arr = np.expand_dims(img, axis=0) \n",
    "   img_arr = 1 - img_arr/255.0 # преобразование каждого значения массива в значение от 0 до 1\n",
    "   img_arr = img_arr.reshape((1, 28, 28, 1)) # преобразования изображения в матрицу 28*28 для сверточной нейросети\n",
    "   return img_arr # возврат полученной матрицы как результат функции"
   ]
  },
  {
   "cell_type": "code",
   "execution_count": 5,
   "id": "arbitrary-genetics",
   "metadata": {},
   "outputs": [],
   "source": [
    "def cnn_predict(model, image_file): #прогноз нейростеи\n",
    "   imag = transform_to_matrix(image_file)\n",
    "   result = model.predict_classes([imag]) # результат предсказания\n",
    "   return result[0] # возврат предсказываемого значения"
   ]
  },
  {
   "cell_type": "code",
   "execution_count": 6,
   "id": "congressional-sweet",
   "metadata": {},
   "outputs": [],
   "source": [
    "def get_file():\n",
    "    global tk\n",
    "    file = askopenfilename() # для открытия файла\n",
    "    \n",
    "    img = PIL.Image.open(file)\n",
    "    img = img.resize((150, 150), PIL.Image.ANTIALIAS)\n",
    "    img = PIL.ImageTk.PhotoImage(img)\n",
    "    \n",
    "    panel = Label(tk, image=img)\n",
    "    panel.image = img\n",
    "    panel.place(x=30,y=80)\n",
    "    \n",
    "    text = Label(tk, text='Ваше изображение:', font=20)\n",
    "    text.place(x=30, y=50)\n",
    "    \n",
    "    model = tf.keras.models.load_model('cnn_digits.h5') #загрузка сохраненной модели нейросети\n",
    "    prediction = cnn_predict(model, file) # предсказание\n",
    "    str_result = str(prediction) # результат в строке\n",
    "    \n",
    "    res_text = Label(tk, text='Распознанная цифра:', font=20)\n",
    "    res_text.place(x=200, y=50)\n",
    "    \n",
    "    result = Label(tk, text=str_result, font=50)\n",
    "    result.place(x=200, y=80)\n",
    "    "
   ]
  },
  {
   "cell_type": "code",
   "execution_count": 7,
   "id": "funny-manual",
   "metadata": {},
   "outputs": [],
   "source": [
    "def help_():\n",
    "    root = Tk()\n",
    "    root.title('Справка')\n",
    "    root.geometry('800x200')\n",
    "    root.resizable(width=False, height=False)\n",
    "    \n",
    "    text = Label(root,text='Данная программа поможет вам в распознавании символов \\n\\n Перед началом работы выберите изображение, которое хотели бы распознать\\nПосле того, как вы выбрали изображение справа под надписью Распознанная цифра появится предсказанная цифра\\nТак же под надписью Ваше изображение появится то изображение, которое вы выбрали')\n",
    "    text.place(x=0,y=0)\n",
    "                 "
   ]
  },
  {
   "cell_type": "code",
   "execution_count": 8,
   "id": "convinced-portuguese",
   "metadata": {},
   "outputs": [
    {
     "name": "stdout",
     "output_type": "stream",
     "text": [
      "WARNING:tensorflow:From <ipython-input-5-2c3d1984bdb9>:3: Sequential.predict_classes (from tensorflow.python.keras.engine.sequential) is deprecated and will be removed after 2021-01-01.\n",
      "Instructions for updating:\n",
      "Please use instead:* `np.argmax(model.predict(x), axis=-1)`,   if your model does multi-class classification   (e.g. if it uses a `softmax` last-layer activation).* `(model.predict(x) > 0.5).astype(\"int32\")`,   if your model does binary classification   (e.g. if it uses a `sigmoid` last-layer activation).\n"
     ]
    }
   ],
   "source": [
    "from tkinter import *     #Для интерфейса\n",
    "from tkinter.filedialog import askopenfilename #Для запроса файла у пользователя\n",
    "tk = Tk()\n",
    "tk.title('Распознавание цифр')\n",
    "tk.geometry('400x350')\n",
    "tk.resizable(width=False, height=False)\n",
    "file = \"\"\n",
    "choose_file = Button(text=\"Выбрать файл\",\n",
    "            padx=5,\n",
    "            pady=5,\n",
    "            font = 10,\n",
    "            command = get_file\n",
    "            )\n",
    "choose_file.place(x=30, y=250)\n",
    "\n",
    "spravka = Button(text=\"Справка\",\n",
    "            padx=5,\n",
    "            pady=5,\n",
    "            font = 10,\n",
    "            command = help_\n",
    "            )\n",
    "spravka.place(x = 250, y=300)\n",
    "\n",
    "tk.mainloop()\n"
   ]
  },
  {
   "cell_type": "code",
   "execution_count": null,
   "id": "municipal-pendant",
   "metadata": {},
   "outputs": [],
   "source": []
  }
 ],
 "metadata": {
  "kernelspec": {
   "display_name": "Python 3",
   "language": "python",
   "name": "python3"
  },
  "language_info": {
   "codemirror_mode": {
    "name": "ipython",
    "version": 3
   },
   "file_extension": ".py",
   "mimetype": "text/x-python",
   "name": "python",
   "nbconvert_exporter": "python",
   "pygments_lexer": "ipython3",
   "version": "3.8.5"
  }
 },
 "nbformat": 4,
 "nbformat_minor": 5
}
